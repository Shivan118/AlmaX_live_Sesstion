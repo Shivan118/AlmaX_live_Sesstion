{
 "cells": [
  {
   "cell_type": "markdown",
   "metadata": {},
   "source": [
    "## Activity 3: Array Manipulation 📊📈\n",
    "Create an array of integers and perform the following activities on the array:\n",
    "\n",
    "🔹 Calculate the sum of all the elements in the array.\n",
    "\n",
    "🔹 Find the maximum value in the array.\n",
    "\n",
    "🔹 Find the minimum value in the array.\n",
    "\n",
    "🔹 Sort the array in ascending order.\n",
    "\n",
    "🔹 Reverse the array."
   ]
  },
  {
   "cell_type": "code",
   "execution_count": 1,
   "metadata": {},
   "outputs": [
    {
     "name": "stdout",
     "output_type": "stream",
     "text": [
      "Array: [5 3 8 1 9 2 7 4 6]\n",
      "Sum of elements: 45\n",
      "Maximum value: 9\n",
      "Minimum value: 1\n",
      "Sorted array: [1 2 3 4 5 6 7 8 9]\n",
      "Reversed array: [6 4 7 2 9 1 8 3 5]\n"
     ]
    }
   ],
   "source": [
    "import numpy as np\n",
    "\n",
    "# Create an array of integers\n",
    "array = np.array([5, 3, 8, 1, 9, 2, 7, 4, 6])\n",
    "\n",
    "# Calculate the sum of all the elements in the array\n",
    "sum_of_elements = np.sum(array)\n",
    "\n",
    "# Find the maximum value in the array\n",
    "max_value = np.max(array)\n",
    "\n",
    "# Find the minimum value in the array\n",
    "min_value = np.min(array)\n",
    "\n",
    "# Sort the array in ascending order\n",
    "sorted_array = np.sort(array)\n",
    "\n",
    "# Reverse the array\n",
    "reversed_array = array[::-1]\n",
    "\n",
    "# Output the results\n",
    "print(f\"Array: {array}\")\n",
    "print(f\"Sum of elements: {sum_of_elements}\")\n",
    "print(f\"Maximum value: {max_value}\")\n",
    "print(f\"Minimum value: {min_value}\")\n",
    "print(f\"Sorted array: {sorted_array}\")\n",
    "print(f\"Reversed array: {reversed_array}\")"
   ]
  },
  {
   "cell_type": "code",
   "execution_count": null,
   "metadata": {},
   "outputs": [],
   "source": []
  }
 ],
 "metadata": {
  "kernelspec": {
   "display_name": "Python 3",
   "language": "python",
   "name": "python3"
  },
  "language_info": {
   "codemirror_mode": {
    "name": "ipython",
    "version": 3
   },
   "file_extension": ".py",
   "mimetype": "text/x-python",
   "name": "python",
   "nbconvert_exporter": "python",
   "pygments_lexer": "ipython3",
   "version": "3.6.9"
  }
 },
 "nbformat": 4,
 "nbformat_minor": 4
}
