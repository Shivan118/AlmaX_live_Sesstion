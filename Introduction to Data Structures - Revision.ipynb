{
 "cells": [
  {
   "cell_type": "markdown",
   "metadata": {},
   "source": [
    "## Introduction to Data Structures\n",
    "\n",
    "A data structure is a format for organizing, processing, retrieving, and storing data. Efficient data structures are key to designing efficient algorithms. Different types of data structures are suited to different kinds of applications, and some are highly specialized to specific tasks.\n",
    "\n"
   ]
  },
  {
   "cell_type": "markdown",
   "metadata": {},
   "source": [
    "## Introduction to Array\n",
    "\n",
    "An array is a data structure that holds a fixed number of elements of the same data type. Arrays are used to store collections of data in a structured way, and they allow for efficient access and manipulation of these elements.\n",
    "\n",
    "Arrays are a collection of elements/values, that can have one or more dimensions. An array of one dimension is called a Vector while having two dimensions is called a Matrix.\n",
    "\n",
    "\n",
    "#### Key Characteristics of Arrays\n",
    "\n",
    "- **Fixed Size:** The size of the array is defined at the time of creation and cannot be changed.\n",
    "- **Homogeneous Elements:** All elements in an array are of the same data type.\n",
    "- **Indexed Access:** Elements can be accessed using an index, with the first element at index 0"
   ]
  },
  {
   "cell_type": "code",
   "execution_count": 1,
   "metadata": {},
   "outputs": [
    {
     "data": {
      "text/plain": [
       "list"
      ]
     },
     "execution_count": 1,
     "metadata": {},
     "output_type": "execute_result"
    }
   ],
   "source": [
    "array = []  # list in pythonic ways\n",
    "\n",
    "array1 = [1,2,3,4,5]\n",
    "\n",
    "type(array1)"
   ]
  },
  {
   "cell_type": "markdown",
   "metadata": {},
   "source": [
    "**Example 1: Creating and Accessing a List**"
   ]
  },
  {
   "cell_type": "code",
   "execution_count": 2,
   "metadata": {},
   "outputs": [
    {
     "name": "stdout",
     "output_type": "stream",
     "text": [
      "List: [10, 20, 30, 40, 100]\n",
      "First Element: 10\n",
      "Second Element: 20\n",
      "Modified List: [10, 20, 30, 40, 100]\n"
     ]
    }
   ],
   "source": [
    "# Creating a list of integers\n",
    "l1 = [10, 20, 30, 40, 50]\n",
    "\n",
    "# Accessing elements of the list using indices\n",
    "first_element = l1[0]  # Accessing the first element\n",
    "second_element = l1[1]  # Accessing the second element\n",
    "\n",
    "# Modifying an element in the list\n",
    "l1[4] =100 # Changing the third element to 35\n",
    "\n",
    "# Printing the list and accessed elements\n",
    "print(\"List:\", l1)\n",
    "print(\"First Element:\", first_element)\n",
    "print(\"Second Element:\", second_element)\n",
    "print(\"Modified List:\", l1)"
   ]
  },
  {
   "cell_type": "code",
   "execution_count": 2,
   "metadata": {},
   "outputs": [
    {
     "data": {
      "text/plain": [
       "list"
      ]
     },
     "execution_count": 2,
     "metadata": {},
     "output_type": "execute_result"
    }
   ],
   "source": [
    "type(array)"
   ]
  },
  {
   "cell_type": "markdown",
   "metadata": {},
   "source": [
    "**Using the array Module**\n",
    "- Python also has a built-in array module that provides a more array-like data structure with type constraints."
   ]
  },
  {
   "cell_type": "markdown",
   "metadata": {},
   "source": [
    "**Example 2: Creating and Accessing an Array Using array Module**"
   ]
  },
  {
   "cell_type": "code",
   "execution_count": 4,
   "metadata": {},
   "outputs": [
    {
     "name": "stdout",
     "output_type": "stream",
     "text": [
      "Array: array('i', [10, 20, 35, 40, 50])\n",
      "First Element: 10\n",
      "Second Element: 20\n",
      "Modified Array: array('i', [10, 20, 35, 40, 50])\n"
     ]
    }
   ],
   "source": [
    "import array as arr\n",
    "\n",
    "# Creating an array of integers\n",
    "array = arr.array('i', [10, 20, 30, 40, 50])\n",
    "\n",
    "# Accessing elements of the array using indices\n",
    "first_element = array[0]  # Accessing the first element\n",
    "second_element = array[1]  # Accessing the second element\n",
    "\n",
    "# Modifying an element in the array\n",
    "array[2] = 35  # Changing the third element to 35\n",
    "\n",
    "# Printing the array and accessed elements\n",
    "print(\"Array:\", array)\n",
    "print(\"First Element:\", first_element)\n",
    "print(\"Second Element:\", second_element)\n",
    "print(\"Modified Array:\", array)"
   ]
  },
  {
   "cell_type": "code",
   "execution_count": 4,
   "metadata": {},
   "outputs": [
    {
     "ename": "TypeError",
     "evalue": "array() argument 1 must be a unicode character, not list",
     "output_type": "error",
     "traceback": [
      "\u001b[1;31m---------------------------------------------------------------------------\u001b[0m",
      "\u001b[1;31mTypeError\u001b[0m                                 Traceback (most recent call last)",
      "\u001b[1;32m<ipython-input-4-8843f8055f3c>\u001b[0m in \u001b[0;36m<module>\u001b[1;34m\u001b[0m\n\u001b[0;32m      2\u001b[0m \u001b[1;33m\u001b[0m\u001b[0m\n\u001b[0;32m      3\u001b[0m \u001b[1;31m# Creating an array of integers\u001b[0m\u001b[1;33m\u001b[0m\u001b[1;33m\u001b[0m\u001b[1;33m\u001b[0m\u001b[0m\n\u001b[1;32m----> 4\u001b[1;33m \u001b[0marray\u001b[0m \u001b[1;33m=\u001b[0m \u001b[0marr\u001b[0m\u001b[1;33m.\u001b[0m\u001b[0marray\u001b[0m\u001b[1;33m(\u001b[0m\u001b[1;33m[\u001b[0m\u001b[1;36m10\u001b[0m\u001b[1;33m,\u001b[0m \u001b[1;36m20\u001b[0m\u001b[1;33m,\u001b[0m \u001b[1;36m30\u001b[0m\u001b[1;33m,\u001b[0m \u001b[1;36m40\u001b[0m\u001b[1;33m,\u001b[0m \u001b[1;36m50\u001b[0m\u001b[1;33m]\u001b[0m\u001b[1;33m)\u001b[0m\u001b[1;33m\u001b[0m\u001b[1;33m\u001b[0m\u001b[0m\n\u001b[0m\u001b[0;32m      5\u001b[0m \u001b[1;33m\u001b[0m\u001b[0m\n\u001b[0;32m      6\u001b[0m \u001b[1;31m# Accessing elements of the array using indices\u001b[0m\u001b[1;33m\u001b[0m\u001b[1;33m\u001b[0m\u001b[1;33m\u001b[0m\u001b[0m\n",
      "\u001b[1;31mTypeError\u001b[0m: array() argument 1 must be a unicode character, not list"
     ]
    }
   ],
   "source": [
    "import array as arr\n",
    "\n",
    "# Creating an array of integers\n",
    "array = arr.array([10, 20, 30, 40, 50])\n",
    "\n",
    "# Accessing elements of the array using indices\n",
    "first_element = array[0]  # Accessing the first element\n",
    "second_element = array[1]  # Accessing the second element\n",
    "\n",
    "# Modifying an element in the array\n",
    "array[2] = 35  # Changing the third element to 35\n",
    "\n",
    "# Printing the array and accessed elements\n",
    "print(\"Array:\", array)\n",
    "print(\"First Element:\", first_element)\n",
    "print(\"Second Element:\", second_element)\n",
    "print(\"Modified Array:\", array)"
   ]
  },
  {
   "cell_type": "code",
   "execution_count": null,
   "metadata": {},
   "outputs": [],
   "source": []
  },
  {
   "cell_type": "code",
   "execution_count": null,
   "metadata": {},
   "outputs": [],
   "source": []
  },
  {
   "cell_type": "code",
   "execution_count": 3,
   "metadata": {},
   "outputs": [
    {
     "data": {
      "text/plain": [
       "array.array"
      ]
     },
     "execution_count": 3,
     "metadata": {},
     "output_type": "execute_result"
    }
   ],
   "source": [
    "import array as arr\n",
    "\n",
    "# Creating an array of integers\n",
    "array = arr.array('i', [10, 20, 30, 40, 50])\n",
    "\n",
    "type(array)"
   ]
  },
  {
   "cell_type": "code",
   "execution_count": 5,
   "metadata": {},
   "outputs": [
    {
     "data": {
      "text/plain": [
       "array.array"
      ]
     },
     "execution_count": 5,
     "metadata": {},
     "output_type": "execute_result"
    }
   ],
   "source": [
    "type(array)"
   ]
  },
  {
   "cell_type": "code",
   "execution_count": 6,
   "metadata": {},
   "outputs": [
    {
     "ename": "TypeError",
     "evalue": "array() argument 1 must be a unicode character, not list",
     "output_type": "error",
     "traceback": [
      "\u001b[1;31m---------------------------------------------------------------------------\u001b[0m",
      "\u001b[1;31mTypeError\u001b[0m                                 Traceback (most recent call last)",
      "\u001b[1;32m<ipython-input-6-8843f8055f3c>\u001b[0m in \u001b[0;36m<module>\u001b[1;34m\u001b[0m\n\u001b[0;32m      2\u001b[0m \u001b[1;33m\u001b[0m\u001b[0m\n\u001b[0;32m      3\u001b[0m \u001b[1;31m# Creating an array of integers\u001b[0m\u001b[1;33m\u001b[0m\u001b[1;33m\u001b[0m\u001b[1;33m\u001b[0m\u001b[0m\n\u001b[1;32m----> 4\u001b[1;33m \u001b[0marray\u001b[0m \u001b[1;33m=\u001b[0m \u001b[0marr\u001b[0m\u001b[1;33m.\u001b[0m\u001b[0marray\u001b[0m\u001b[1;33m(\u001b[0m\u001b[1;33m[\u001b[0m\u001b[1;36m10\u001b[0m\u001b[1;33m,\u001b[0m \u001b[1;36m20\u001b[0m\u001b[1;33m,\u001b[0m \u001b[1;36m30\u001b[0m\u001b[1;33m,\u001b[0m \u001b[1;36m40\u001b[0m\u001b[1;33m,\u001b[0m \u001b[1;36m50\u001b[0m\u001b[1;33m]\u001b[0m\u001b[1;33m)\u001b[0m\u001b[1;33m\u001b[0m\u001b[1;33m\u001b[0m\u001b[0m\n\u001b[0m\u001b[0;32m      5\u001b[0m \u001b[1;33m\u001b[0m\u001b[0m\n\u001b[0;32m      6\u001b[0m \u001b[1;31m# Accessing elements of the array using indices\u001b[0m\u001b[1;33m\u001b[0m\u001b[1;33m\u001b[0m\u001b[1;33m\u001b[0m\u001b[0m\n",
      "\u001b[1;31mTypeError\u001b[0m: array() argument 1 must be a unicode character, not list"
     ]
    }
   ],
   "source": [
    "import array as arr\n",
    "\n",
    "# Creating an array of integers\n",
    "array = arr.array([10, 20, 30, 40, 50]) ############ Removed i\n",
    "\n",
    "# Accessing elements of the array using indices\n",
    "first_element = array[0]  # Accessing the first element\n",
    "second_element = array[1]  # Accessing the second element\n",
    "\n",
    "# Modifying an element in the array\n",
    "array[2] = 35  # Changing the third element to 35\n",
    "\n",
    "# Printing the array and accessed elements\n",
    "print(\"Array:\", array)\n",
    "print(\"First Element:\", first_element)\n",
    "print(\"Second Element:\", second_element)\n",
    "print(\"Modified Array:\", array)\n"
   ]
  },
  {
   "cell_type": "markdown",
   "metadata": {},
   "source": [
    "**Example 3:**"
   ]
  },
  {
   "cell_type": "markdown",
   "metadata": {},
   "source": [
    "##### 'b': unsigned char\n",
    "\n",
    "**Range: -128 to 127.**"
   ]
  },
  {
   "cell_type": "code",
   "execution_count": 5,
   "metadata": {},
   "outputs": [
    {
     "name": "stdout",
     "output_type": "stream",
     "text": [
      "array('b', [65, 66, 67])\n"
     ]
    }
   ],
   "source": [
    "import array as arr\n",
    "char_array = arr.array('b', [65, 66, 67])\n",
    "print(char_array)  # Output: array('b', [65, 66, 67])"
   ]
  },
  {
   "cell_type": "markdown",
   "metadata": {},
   "source": [
    "**Let's Increase the values**"
   ]
  },
  {
   "cell_type": "code",
   "execution_count": 6,
   "metadata": {},
   "outputs": [
    {
     "ename": "OverflowError",
     "evalue": "signed char is greater than maximum",
     "output_type": "error",
     "traceback": [
      "\u001b[1;31m---------------------------------------------------------------------------\u001b[0m",
      "\u001b[1;31mOverflowError\u001b[0m                             Traceback (most recent call last)",
      "\u001b[1;32m<ipython-input-6-41e106b8cee8>\u001b[0m in \u001b[0;36m<module>\u001b[1;34m\u001b[0m\n\u001b[0;32m      1\u001b[0m \u001b[1;32mimport\u001b[0m \u001b[0marray\u001b[0m \u001b[1;32mas\u001b[0m \u001b[0marr\u001b[0m\u001b[1;33m\u001b[0m\u001b[1;33m\u001b[0m\u001b[0m\n\u001b[1;32m----> 2\u001b[1;33m \u001b[0mchar_array\u001b[0m \u001b[1;33m=\u001b[0m \u001b[0marr\u001b[0m\u001b[1;33m.\u001b[0m\u001b[0marray\u001b[0m\u001b[1;33m(\u001b[0m\u001b[1;34m'b'\u001b[0m\u001b[1;33m,\u001b[0m \u001b[1;33m[\u001b[0m\u001b[1;36m200\u001b[0m\u001b[1;33m,\u001b[0m \u001b[1;36m180\u001b[0m\u001b[1;33m,\u001b[0m \u001b[1;36m300\u001b[0m\u001b[1;33m]\u001b[0m\u001b[1;33m)\u001b[0m\u001b[1;33m\u001b[0m\u001b[1;33m\u001b[0m\u001b[0m\n\u001b[0m\u001b[0;32m      3\u001b[0m \u001b[0mprint\u001b[0m\u001b[1;33m(\u001b[0m\u001b[0mchar_array\u001b[0m\u001b[1;33m)\u001b[0m  \u001b[1;31m# Output: array('b', [65, 66, 67])\u001b[0m\u001b[1;33m\u001b[0m\u001b[1;33m\u001b[0m\u001b[0m\n",
      "\u001b[1;31mOverflowError\u001b[0m: signed char is greater than maximum"
     ]
    }
   ],
   "source": [
    "import array as arr\n",
    "char_array = arr.array('b', [200, 180, 300])\n",
    "print(char_array)  # Output: array('b', [65, 66, 67])"
   ]
  },
  {
   "cell_type": "markdown",
   "metadata": {},
   "source": [
    "**Here are some of the most commonly used type codes:**\n",
    "\n",
    "'b': signed char -> Range From -128 to 127.\n",
    "\n",
    "'B': unsigned char -> Range From: From 0 to 255\n",
    "\n",
    "'u': Unicode character\n",
    "\n",
    "'h': signed short\n",
    "\n",
    "'H': unsigned short\n",
    "\n",
    "'i': signed int\n",
    "\n",
    "'I': unsigned int\n",
    "\n",
    "'l': signed long\n",
    "\n",
    "'L': unsigned long\n",
    "\n",
    "'q': signed long long\n",
    "\n",
    "'Q': unsigned long long\n",
    "\n",
    "'f': float\n",
    "\n",
    "'d': double"
   ]
  },
  {
   "cell_type": "code",
   "execution_count": null,
   "metadata": {},
   "outputs": [],
   "source": [
    "import array as arr # Module\n",
    "pinstall numpy # Library"
   ]
  },
  {
   "cell_type": "markdown",
   "metadata": {},
   "source": [
    "### What is NumPy?\n",
    "\n",
    "NumPy, short for Numerical Python, is a fundamental library for scientific computing in Python. It provides support for arrays and matrices, along with a collection of mathematical functions to operate on these data structures efficiently."
   ]
  },
  {
   "cell_type": "markdown",
   "metadata": {},
   "source": [
    "**Why Use NumPy?**\n",
    "\n",
    "- In Python we have lists that serve the purpose of arrays, but they are slow to process.\n",
    "\n",
    "- NumPy aims to provide an array object that is up to 50x faster than traditional Python lists."
   ]
  },
  {
   "cell_type": "markdown",
   "metadata": {},
   "source": [
    "**Using Python List**"
   ]
  },
  {
   "cell_type": "code",
   "execution_count": 11,
   "metadata": {},
   "outputs": [
    {
     "name": "stdout",
     "output_type": "stream",
     "text": [
      "Time taken using Python lists: 3.613326 seconds\n"
     ]
    }
   ],
   "source": [
    "import time\n",
    "\n",
    "# Create two large lists of 10 million elements each\n",
    "list1 = list(range(10000000))\n",
    "list2 = list(range(10000000))\n",
    "\n",
    "# Measure the time taken for element-wise addition using lists\n",
    "start_time = time.time()\n",
    "\n",
    "result_list = [x + y for x, y in zip(list1, list2)]\n",
    "\n",
    "end_time = time.time()\n",
    "\n",
    "print(\"Time taken using Python lists: {:.6f} seconds\".format(end_time - start_time))"
   ]
  },
  {
   "cell_type": "markdown",
   "metadata": {},
   "source": [
    "**Using NumPy Array**"
   ]
  },
  {
   "cell_type": "code",
   "execution_count": 12,
   "metadata": {},
   "outputs": [
    {
     "name": "stdout",
     "output_type": "stream",
     "text": [
      "Time taken using NumPy arrays: 0.045555 seconds\n"
     ]
    }
   ],
   "source": [
    "import numpy as np\n",
    "import array as arr\n",
    "import time\n",
    "\n",
    "# Create two large NumPy arrays of 10 million elements each\n",
    "array1 = np.arange(10000000)\n",
    "array2 = np.arange(10000000)\n",
    "\n",
    "# Measure the time taken for element-wise addition using NumPy arrays\n",
    "start_time = time.time()\n",
    "\n",
    "result_array = array1 + array2\n",
    "\n",
    "end_time = time.time()\n",
    "\n",
    "print(\"Time taken using NumPy arrays: {:.6f} seconds\".format(end_time - start_time))"
   ]
  },
  {
   "cell_type": "markdown",
   "metadata": {},
   "source": [
    "**Why is NumPy Faster Than Lists?**\n",
    "\n",
    "- **Contiguous Memory:** NumPy arrays use a single block of memory, making data access quicker compared to Python lists, which store pointers to scattered memory locations.\n",
    "\n",
    "- **Same Data Type:** NumPy arrays hold elements of the same type for optimization and faster computations. Python lists can store mixed types, adding extra overhead.\n",
    "\n",
    "- **Optimized Code:** NumPy is implemented in low-level languages like C, which are much faster than the high-level Python code used for lists.\n",
    "\n",
    "- **Vectorized Operations:** NumPy supports performing operations on entire arrays at once, while Python lists require slower, manual element-by-element processing."
   ]
  },
  {
   "cell_type": "markdown",
   "metadata": {},
   "source": [
    "# NumPy Implementation"
   ]
  },
  {
   "cell_type": "code",
   "execution_count": 13,
   "metadata": {},
   "outputs": [
    {
     "name": "stdout",
     "output_type": "stream",
     "text": [
      "Requirement already satisfied: numpy in c:\\application\\anaconda\\envs\\bigmart\\lib\\site-packages (1.19.5)\n"
     ]
    }
   ],
   "source": [
    "!pip install numpy"
   ]
  },
  {
   "cell_type": "code",
   "execution_count": 8,
   "metadata": {},
   "outputs": [],
   "source": [
    "import numpy as np # np loads the NumPy library and gives it a shorter name, np, for easier use in your code."
   ]
  },
  {
   "cell_type": "code",
   "execution_count": 11,
   "metadata": {},
   "outputs": [
    {
     "name": "stdout",
     "output_type": "stream",
     "text": [
      "<class 'list'>\n",
      "<class 'numpy.ndarray'>\n"
     ]
    }
   ],
   "source": [
    "list1 = []\n",
    "\n",
    "arr = np.array(list1)\n",
    "\n",
    "print(type(list1))\n",
    "print(type(arr))"
   ]
  },
  {
   "cell_type": "code",
   "execution_count": 10,
   "metadata": {},
   "outputs": [
    {
     "data": {
      "text/plain": [
       "numpy.ndarray"
      ]
     },
     "execution_count": 10,
     "metadata": {},
     "output_type": "execute_result"
    }
   ],
   "source": [
    "arr1 = np.array([])\n",
    "\n",
    "type(arr1)"
   ]
  },
  {
   "cell_type": "code",
   "execution_count": 20,
   "metadata": {},
   "outputs": [
    {
     "name": "stdout",
     "output_type": "stream",
     "text": [
      "<class 'list'>\n",
      "Converted NumPy Array: []\n",
      "<class 'numpy.ndarray'>\n"
     ]
    }
   ],
   "source": [
    "import numpy as np\n",
    "\n",
    "# Create an empty Python list\n",
    "py_list = []\n",
    "\n",
    "# Convert to an empty list to Empty NumPy array\n",
    "empty_np_array = np.array(py_list)\n",
    "\n",
    "print(type(py_list))\n",
    "print(\"Converted NumPy Array:\", empty_np_array)\n",
    "print(type(empty_np_array))"
   ]
  },
  {
   "cell_type": "code",
   "execution_count": 15,
   "metadata": {},
   "outputs": [
    {
     "name": "stdout",
     "output_type": "stream",
     "text": [
      "[1 2 3 4 5]\n",
      "<class 'numpy.ndarray'>\n"
     ]
    }
   ],
   "source": [
    "# Creating array using NumPy\n",
    "import numpy as np\n",
    "\n",
    "arr = np.array([1, 2, 3, 4, 5]) # 1D\n",
    "\n",
    "print(arr)\n",
    "\n",
    "print(type(arr))"
   ]
  },
  {
   "cell_type": "code",
   "execution_count": 21,
   "metadata": {},
   "outputs": [
    {
     "name": "stdout",
     "output_type": "stream",
     "text": [
      "7\n"
     ]
    }
   ],
   "source": [
    "# NumPy Array Indexing # alias\n",
    "import numpy as np\n",
    "\n",
    "arr = np.array([1, 2, 3, 4])\n",
    "\n",
    "print(arr[2] + arr[3])"
   ]
  },
  {
   "cell_type": "code",
   "execution_count": 14,
   "metadata": {},
   "outputs": [
    {
     "name": "stdout",
     "output_type": "stream",
     "text": [
      "Array 1D is 1D: True\n",
      "Array 2D is 2D: True\n"
     ]
    }
   ],
   "source": [
    "# check if a NumPy array is 1D or 2D\n",
    "\n",
    "import numpy as np\n",
    "\n",
    "# Creating a 1D array\n",
    "array_1d = np.array([1, 2, 3, 4, 5])\n",
    "\n",
    "# Creating a 2D array\n",
    "array_2d = np.array([[1, 2, 3], \n",
    "                     [4, 5, 6],\n",
    "                    [4, 5, 6]])\n",
    "\n",
    "# Check if the arrays are 1D or 2D\n",
    "print(\"Array 1D is 1D:\", array_1d.ndim == 1)\n",
    "print(\"Array 2D is 2D:\", array_2d.ndim == 2)\n"
   ]
  },
  {
   "cell_type": "code",
   "execution_count": 17,
   "metadata": {},
   "outputs": [
    {
     "data": {
      "text/plain": [
       "5"
      ]
     },
     "execution_count": 17,
     "metadata": {},
     "output_type": "execute_result"
    }
   ],
   "source": [
    "array_1d = np.array([[[[[1, 2, 3], [4, 5, 6], [7,8,9]]]]])\n",
    "array_1d.ndim"
   ]
  },
  {
   "cell_type": "code",
   "execution_count": null,
   "metadata": {},
   "outputs": [],
   "source": [
    "array_3d = np.array([[[1, 2, 3], \n",
    "                      [4, 5, 6], \n",
    "                      [7,8,9]]])\n",
    "\n",
    "\n",
    "array_4d = np.array([[[[1, 2, 3], \n",
    "                       [4, 5, 6], \n",
    "                       [7,8,9]]]])\n"
   ]
  },
  {
   "cell_type": "code",
   "execution_count": 28,
   "metadata": {},
   "outputs": [
    {
     "name": "stdout",
     "output_type": "stream",
     "text": [
      "Array 1D has 1 dimension(s)\n",
      "Array 2D has 2 dimension(s)\n",
      "Array 3D has 3 dimension(s)\n",
      "Array 4D has 4 dimension(s)\n"
     ]
    }
   ],
   "source": [
    "import numpy as np\n",
    "\n",
    "# Creating arrays\n",
    "array_1d = np.array([1, 2, 3, 4, 5])\n",
    "array_2d = np.array([[1, 2, 3], [4, 5, 6]])\n",
    "array_3d = np.array([[[1, 2, 3], [4, 5, 6], [7,8,9]]])\n",
    "array_4d = np.array([[[[1, 2, 3], [4, 5, 6], [7,8,9]]]])\n",
    "# Check dimensions\n",
    "def check_array_dim(arr):\n",
    "    return arr.ndim\n",
    "\n",
    "print(\"Array 1D has\", check_array_dim(array_1d), \"dimension(s)\")\n",
    "print(\"Array 2D has\", check_array_dim(array_2d), \"dimension(s)\")\n",
    "print(\"Array 3D has\", check_array_dim(array_3d), \"dimension(s)\")\n",
    "print(\"Array 4D has\", check_array_dim(array_4d), \"dimension(s)\")"
   ]
  },
  {
   "cell_type": "markdown",
   "metadata": {},
   "source": [
    "**Access 2-D Arrays**\n",
    "- To access elements from 2-D arrays we can use comma separated integers representing the dimension and the index of the element."
   ]
  },
  {
   "cell_type": "code",
   "execution_count": 30,
   "metadata": {},
   "outputs": [
    {
     "name": "stdout",
     "output_type": "stream",
     "text": [
      "5th element on 2nd dim: 10\n"
     ]
    }
   ],
   "source": [
    "import numpy as np\n",
    "\n",
    "arr = np.array([[1,2,3,4,5], \n",
    "                [6,7,8,9,10]])\n",
    "\n",
    "print(\"5th element on 2nd dim:\", arr[1, 4])"
   ]
  },
  {
   "cell_type": "markdown",
   "metadata": {},
   "source": [
    "**NumPy Array Slicing**\n",
    "- We pass slice instead of index like this: [start:end].\n",
    "\n",
    "- We can also define the step, like this: [start:end:step].\n",
    "\n",
    "- If we don’t pass start its considered 0\n",
    "\n",
    "- If we don’t pass end its considered length of array in that dimension\n",
    "\n",
    "- If we don’t pass step its considered 1."
   ]
  },
  {
   "cell_type": "code",
   "execution_count": 31,
   "metadata": {},
   "outputs": [
    {
     "name": "stdout",
     "output_type": "stream",
     "text": [
      "[2 3 4 5]\n"
     ]
    }
   ],
   "source": [
    "import numpy as np\n",
    "\n",
    "arr = np.array([1, 2, 3, 4, 5, 6, 7])\n",
    "\n",
    "print(arr[1:5])"
   ]
  },
  {
   "cell_type": "markdown",
   "metadata": {},
   "source": [
    "**Negative Slicing**\n",
    "- Use the minus operator to refer to an index from the end:"
   ]
  },
  {
   "cell_type": "code",
   "execution_count": 32,
   "metadata": {},
   "outputs": [
    {
     "name": "stdout",
     "output_type": "stream",
     "text": [
      "[5 6]\n"
     ]
    }
   ],
   "source": [
    "import numpy as np\n",
    "\n",
    "arr = np.array([1, 2, 3, 4, 5, 6, 7])\n",
    "\n",
    "print(arr[-3:-1])"
   ]
  },
  {
   "cell_type": "markdown",
   "metadata": {},
   "source": [
    "**NumPy Array Shape**\n",
    "- NumPy arrays have an attribute called shape that returns a tuple with each index having the number of corresponding elements.\n",
    "\n"
   ]
  },
  {
   "cell_type": "code",
   "execution_count": 33,
   "metadata": {},
   "outputs": [
    {
     "name": "stdout",
     "output_type": "stream",
     "text": [
      "(2, 4)\n"
     ]
    }
   ],
   "source": [
    "import numpy as np\n",
    "\n",
    "arr = np.array([[1, 2, 3, 4], [5, 6, 7, 8]])\n",
    "\n",
    "print(arr.shape)"
   ]
  },
  {
   "cell_type": "markdown",
   "metadata": {},
   "source": [
    "**NumPy Array Reshaping** \n",
    "\n",
    "Reshaping means changing the shape of an array.\n",
    "\n",
    "The shape of an array is the number of elements in each dimension.\n",
    "\n",
    "By reshaping we can add or remove dimensions or change number of elements in each dimension."
   ]
  },
  {
   "cell_type": "code",
   "execution_count": 35,
   "metadata": {},
   "outputs": [
    {
     "name": "stdout",
     "output_type": "stream",
     "text": [
      "[[ 1  2  3]\n",
      " [ 4  5  6]\n",
      " [ 7  8  9]\n",
      " [10 11 12]]\n"
     ]
    }
   ],
   "source": [
    "import numpy as np\n",
    "\n",
    "arr = np.array([1, 2, 3, 4, 5, 6, 7, 8, 9, 10, 11, 12]) # Convert the following 1-D array with 12 elements into a 2-D array.\n",
    "\n",
    "newarr = arr.reshape(4, 3)\n",
    "\n",
    "print(newarr)"
   ]
  },
  {
   "cell_type": "markdown",
   "metadata": {},
   "source": [
    "**Reshape From 1-D to 3-D**"
   ]
  },
  {
   "cell_type": "code",
   "execution_count": 36,
   "metadata": {},
   "outputs": [
    {
     "name": "stdout",
     "output_type": "stream",
     "text": [
      "[[[ 1  2]\n",
      "  [ 3  4]\n",
      "  [ 5  6]]\n",
      "\n",
      " [[ 7  8]\n",
      "  [ 9 10]\n",
      "  [11 12]]]\n"
     ]
    }
   ],
   "source": [
    "import numpy as np\n",
    "\n",
    "arr = np.array([1, 2, 3, 4, 5, 6, 7, 8, 9, 10, 11, 12])\n",
    "\n",
    "newarr = arr.reshape(2, 3, 2)\n",
    "\n",
    "print(newarr)"
   ]
  },
  {
   "cell_type": "markdown",
   "metadata": {},
   "source": [
    "#### Array Operations\n",
    "Let's look at a breif overview of various operations that can be performed on an array, such as **traversal, searching, insertion, deletion, and sorting.**"
   ]
  },
  {
   "cell_type": "markdown",
   "metadata": {},
   "source": [
    "- NumPy Array Traversal:\n"
   ]
  },
  {
   "cell_type": "code",
   "execution_count": 37,
   "metadata": {},
   "outputs": [
    {
     "name": "stdout",
     "output_type": "stream",
     "text": [
      "10\n",
      "20\n",
      "30\n",
      "40\n",
      "50\n"
     ]
    }
   ],
   "source": [
    "import numpy as np\n",
    "\n",
    "# Creating an array\n",
    "array = np.array([10, 20, 30, 40, 50])\n",
    "\n",
    "# Traversing the array\n",
    "for element in array:\n",
    "    print(element)"
   ]
  },
  {
   "cell_type": "markdown",
   "metadata": {},
   "source": [
    "- Python List Traversal:"
   ]
  },
  {
   "cell_type": "code",
   "execution_count": 38,
   "metadata": {},
   "outputs": [
    {
     "name": "stdout",
     "output_type": "stream",
     "text": [
      "10\n",
      "20\n",
      "30\n",
      "40\n",
      "50\n"
     ]
    }
   ],
   "source": [
    "# Creating a list\n",
    "list_ = [10, 20, 30, 40, 50]\n",
    "\n",
    "# Traversing the list\n",
    "for element in list_:\n",
    "    print(element)"
   ]
  },
  {
   "cell_type": "markdown",
   "metadata": {},
   "source": [
    "#### 2. Searching\n",
    "- Searching involves finding specific elements within the array.\n",
    "\n",
    "**NumPy Array Search:**"
   ]
  },
  {
   "cell_type": "code",
   "execution_count": 40,
   "metadata": {},
   "outputs": [
    {
     "name": "stdout",
     "output_type": "stream",
     "text": [
      "Index of 30: 2\n"
     ]
    }
   ],
   "source": [
    "import numpy as np\n",
    "\n",
    "# Creating an array\n",
    "array = np.array([10, 20, 30, 40, 50])\n",
    "\n",
    "# Searching for an element\n",
    "index = np.where(array == 30)\n",
    "print(\"Index of 30:\", index[0][0])"
   ]
  },
  {
   "cell_type": "code",
   "execution_count": 42,
   "metadata": {},
   "outputs": [
    {
     "name": "stdout",
     "output_type": "stream",
     "text": [
      "Element found at index: 2\n"
     ]
    }
   ],
   "source": [
    "my_array = np.array([1, 2, 3, 4, 5])\n",
    "search_element = 3\n",
    "\n",
    "for index, element in enumerate(my_array):\n",
    "    if element == search_element:\n",
    "        print(\"Element found at index:\", index)\n",
    "        break\n",
    "else:\n",
    "    print(\"Element not found in the array.\")"
   ]
  },
  {
   "cell_type": "markdown",
   "metadata": {},
   "source": [
    "- Python List Search:"
   ]
  },
  {
   "cell_type": "code",
   "execution_count": 41,
   "metadata": {},
   "outputs": [
    {
     "name": "stdout",
     "output_type": "stream",
     "text": [
      "Index of 30: 2\n"
     ]
    }
   ],
   "source": [
    "# Creating a list\n",
    "list_ = [10, 20, 30, 40, 50]\n",
    "\n",
    "# Searching for an element\n",
    "index = list_.index(30)\n",
    "print(\"Index of 30:\", index)"
   ]
  },
  {
   "cell_type": "markdown",
   "metadata": {},
   "source": [
    "#### 3. Insertion\n",
    "Insertion involves adding elements to the array.\n",
    "\n",
    "- NumPy Array Insertion:"
   ]
  },
  {
   "cell_type": "code",
   "execution_count": 43,
   "metadata": {},
   "outputs": [
    {
     "name": "stdout",
     "output_type": "stream",
     "text": [
      "Array after insertion: [10 20 25 30 40]\n"
     ]
    }
   ],
   "source": [
    "import numpy as np\n",
    "\n",
    "# Creating an array\n",
    "array = np.array([10, 20, 30, 40])\n",
    "\n",
    "# Inserting an element\n",
    "new_array = np.insert(array, 2, 25)\n",
    "print(\"Array after insertion:\", new_array)"
   ]
  },
  {
   "cell_type": "markdown",
   "metadata": {},
   "source": [
    "- Python List Insertion:"
   ]
  },
  {
   "cell_type": "code",
   "execution_count": 44,
   "metadata": {},
   "outputs": [
    {
     "name": "stdout",
     "output_type": "stream",
     "text": [
      "List after insertion: [10, 20, 25, 30, 40]\n"
     ]
    }
   ],
   "source": [
    "# Creating a list\n",
    "list_ = [10, 20, 30, 40]\n",
    "\n",
    "# Inserting an element\n",
    "list_.insert(2, 25)\n",
    "print(\"List after insertion:\", list_)"
   ]
  },
  {
   "cell_type": "markdown",
   "metadata": {},
   "source": [
    "#### 4. Deletion\n",
    "Deletion involves removing elements from the array.\n",
    "\n",
    "- NumPy Array Deletion:"
   ]
  },
  {
   "cell_type": "code",
   "execution_count": 45,
   "metadata": {},
   "outputs": [
    {
     "name": "stdout",
     "output_type": "stream",
     "text": [
      "Array after deletion: [10 20 40]\n"
     ]
    }
   ],
   "source": [
    "import numpy as np\n",
    "\n",
    "# Creating an array\n",
    "array = np.array([10, 20, 30, 40])\n",
    "\n",
    "# Deleting an element\n",
    "new_array = np.delete(array, 2)\n",
    "print(\"Array after deletion:\", new_array)"
   ]
  },
  {
   "cell_type": "code",
   "execution_count": 47,
   "metadata": {},
   "outputs": [
    {
     "name": "stdout",
     "output_type": "stream",
     "text": [
      "[1 2 4 5]\n"
     ]
    }
   ],
   "source": [
    "import numpy as np\n",
    "\n",
    "# Suppose you have an existing numpy array\n",
    "my_array = np.array([1, 2, 3, 4, 5])\n",
    "\n",
    "# Index of the element you want to delete\n",
    "index_to_delete = 2\n",
    "\n",
    "# Delete the element at the specified index\n",
    "new_array = np.delete(my_array, index_to_delete)\n",
    "\n",
    "print(new_array)"
   ]
  },
  {
   "cell_type": "markdown",
   "metadata": {},
   "source": [
    "- Python List Deletion:"
   ]
  },
  {
   "cell_type": "code",
   "execution_count": 46,
   "metadata": {},
   "outputs": [
    {
     "name": "stdout",
     "output_type": "stream",
     "text": [
      "List after deletion: [10, 20, 40]\n"
     ]
    }
   ],
   "source": [
    "# Creating a list\n",
    "list_ = [10, 20, 30, 40]\n",
    "\n",
    "# Deleting an element\n",
    "del list_[2]\n",
    "print(\"List after deletion:\", list_)"
   ]
  },
  {
   "cell_type": "markdown",
   "metadata": {},
   "source": [
    "#### 5. Sorting\n",
    "Sorting involves arranging the elements in a specific order.\n",
    "\n",
    "- NumPy Array Sorting:"
   ]
  },
  {
   "cell_type": "code",
   "execution_count": 48,
   "metadata": {},
   "outputs": [
    {
     "name": "stdout",
     "output_type": "stream",
     "text": [
      "Sorted array: [10 20 30 40]\n"
     ]
    }
   ],
   "source": [
    "import numpy as np\n",
    "\n",
    "# Creating an array\n",
    "array = np.array([40, 10, 30, 20])\n",
    "\n",
    "# Sorting the array\n",
    "sorted_array = np.sort(array)\n",
    "print(\"Sorted array:\", sorted_array)"
   ]
  },
  {
   "cell_type": "markdown",
   "metadata": {},
   "source": [
    "- Python List Sorting:\n"
   ]
  },
  {
   "cell_type": "code",
   "execution_count": 49,
   "metadata": {},
   "outputs": [
    {
     "name": "stdout",
     "output_type": "stream",
     "text": [
      "Sorted list: [10, 20, 30, 40]\n"
     ]
    }
   ],
   "source": [
    "# Creating a list\n",
    "list_ = [40, 10, 30, 20]\n",
    "\n",
    "# Sorting the list\n",
    "list_.sort()\n",
    "print(\"Sorted list:\", list_)"
   ]
  },
  {
   "cell_type": "markdown",
   "metadata": {},
   "source": [
    "## 🔍 Activity: Fill in the Blanks\n",
    "**Consider the following NumPy array: my_array = np.array([10, 20, 30, 40, 50])**\n",
    "\n",
    "- The number of elements in the array is ________.\n",
    "\n",
    "- To access the third element of the array, you would use the index ________.\n",
    "\n",
    "- To add a new element with the value 60 at the end of the array, you would use the method ________.\n",
    "\n",
    "- To update the value of the second element to 25, you would use the assignment statement ________.\n",
    "\n",
    "- To remove the element with the value 40 from the array, you would use the method ________.\n",
    "\n",
    "- The method used to find the index of a specific element in the array is ________.\n",
    "\n",
    "- The process of extracting a portion of the array is known as ________.\n",
    "\n",
    "- To slice the array from index 1 to index 3 (exclusive), you would use the syntax ________.\n",
    "\n",
    "- To check if the value 30 is present in the array, you would use the expression ________.\n",
    "\n",
    "- To reverse the order of elements in the array, you would use the method ________."
   ]
  },
  {
   "cell_type": "code",
   "execution_count": 51,
   "metadata": {},
   "outputs": [
    {
     "name": "stdout",
     "output_type": "stream",
     "text": [
      "Number of elements: 5\n",
      "Third element: 30\n",
      "Array after appending 60: [10 20 30 40 50 60]\n",
      "Array after updating second element: [10 25 30 40 50 60]\n",
      "Array after removing 40: [10 25 30 50 60]\n",
      "Index of 30: 2\n",
      "Sliced array (index 1 to 3 exclusive): [25 30]\n",
      "Is 30 present in the array? True\n",
      "Array after reversing: [60 50 30 25 10]\n"
     ]
    }
   ],
   "source": [
    "import numpy as np\n",
    "\n",
    "# Consider the following NumPy array:\n",
    "my_array = np.array([10, 20, 30, 40, 50])\n",
    "\n",
    "# 1. The number of elements in the array is:\n",
    "num_elements = my_array.size\n",
    "print(\"Number of elements:\", num_elements)\n",
    "\n",
    "# 2. To access the third element of the array, you would use the index:\n",
    "third_element_index = 2\n",
    "third_element = my_array[third_element_index]\n",
    "print(\"Third element:\", third_element)\n",
    "\n",
    "# 3. To add a new element with the value 60 at the end of the array, you would use the method:\n",
    "my_array = np.append(my_array, 60)\n",
    "print(\"Array after appending 60:\", my_array)\n",
    "\n",
    "# 4. To update the value of the second element to 25, you would use the assignment statement:\n",
    "my_array[1] = 25\n",
    "print(\"Array after updating second element:\", my_array)\n",
    "\n",
    "# 5. To remove the element with the value 40 from the array, you would use the method:\n",
    "my_array = my_array[my_array != 40]\n",
    "print(\"Array after removing 40:\", my_array)\n",
    "\n",
    "# 6. The method used to find the index of a specific element in the array is:\n",
    "index_of_element = np.where(my_array == 30)[0][0]\n",
    "print(\"Index of 30:\", index_of_element)\n",
    "\n",
    "# 7. The process of extracting a portion of the array is known as:\n",
    "# (No code needed here; just a comment)\n",
    "# slicing\n",
    "\n",
    "# 8. To slice the array from index 1 to index 3 (exclusive), you would use the syntax:\n",
    "sliced_array = my_array[1:3]\n",
    "print(\"Sliced array (index 1 to 3 exclusive):\", sliced_array)\n",
    "\n",
    "# 9. To check if the value 30 is present in the array, you would use the expression:\n",
    "is_30_present = 30 in my_array\n",
    "print(\"Is 30 present in the array?\", is_30_present)\n",
    "\n",
    "# 10. To reverse the order of elements in the array, you would use the method:\n",
    "my_array = np.flip(my_array)\n",
    "print(\"Array after reversing:\", my_array)\n"
   ]
  },
  {
   "cell_type": "code",
   "execution_count": null,
   "metadata": {},
   "outputs": [],
   "source": []
  }
 ],
 "metadata": {
  "kernelspec": {
   "display_name": "Python 3",
   "language": "python",
   "name": "python3"
  },
  "language_info": {
   "codemirror_mode": {
    "name": "ipython",
    "version": 3
   },
   "file_extension": ".py",
   "mimetype": "text/x-python",
   "name": "python",
   "nbconvert_exporter": "python",
   "pygments_lexer": "ipython3",
   "version": "3.6.9"
  }
 },
 "nbformat": 4,
 "nbformat_minor": 4
}
