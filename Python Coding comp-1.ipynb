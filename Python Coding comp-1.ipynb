{
 "cells": [
  {
   "cell_type": "markdown",
   "metadata": {},
   "source": [
    "# <span style=\"color:blue\">Introduction</span>\n",
    "\n",
    "## <span style=\"color:green\">Agenda of the Session</span>\n",
    "\n",
    "1. How do you Rate yourself in Python?\n",
    "2. How do you Rate yourself in SQL?\n",
    "3. How do you rate yourself in Pandas & Numpy?\n",
    "4. Why are these Sessions important?\n",
    "5. What is expected from you in the Coding Interviews?\n",
    "6. Q & A\n",
    "\n",
    "## <span style=\"color:orange\">How to Build Logic?</span>\n",
    "\n",
    "- **Understand the Question**\n",
    "- **Input & Output Analysis**\n",
    "- **Human Calculation**\n",
    "- **Pseudo Code Creation**\n",
    "- **Translating Logic to Python**"
   ]
  },
  {
   "cell_type": "markdown",
   "metadata": {},
   "source": [
    "\n",
    "\n",
    "#### <span style=\"color:blue\">Question</span>\n",
    "\n",
    "You are given a list of integers, where each integer appears at most twice. Write a Python function to find and return all duplicate integers in the list. The function should return a list of duplicates in the order they first appear.\n",
    "\n",
    "## Logic Building\n",
    "\n",
    "## Idea:\n",
    "\n",
    "- Use a set to keep track of the numbers we have already seen.\n",
    "- If we see a number again that’s already in the set, it’s a duplicate.\n",
    "\n",
    "### Using a Set\n",
    "\n",
    "**Idea:**\n",
    "\n",
    "Use a set to keep track of the numbers we have already seen. If we see a number again that’s already in the set, it’s a duplicate.\n",
    "\n",
    "**Steps:**\n",
    "\n",
    "1. Create two sets: one to keep track of seen numbers and another to store duplicates.\n",
    "2. Loop through each number in the list:\n",
    "   - If the number is already in the seen set, add it to the duplicates set.\n",
    "   - If it’s not in the seen set, add it to the \"seen\" set.\n",
    "3. Convert the duplicates set to a list and return it."
   ]
  },
  {
   "cell_type": "code",
   "execution_count": 5,
   "metadata": {},
   "outputs": [],
   "source": [
    "def find_duplicates(nums):\n",
    "    seen = set()\n",
    "    duplicates = set()\n",
    "    for num in nums:\n",
    "        if num in seen:\n",
    "            duplicates.add(num)\n",
    "        else:\n",
    "            seen.add(num)\n",
    "    return list(duplicates)"
   ]
  },
  {
   "cell_type": "code",
   "execution_count": 6,
   "metadata": {},
   "outputs": [
    {
     "name": "stdout",
     "output_type": "stream",
     "text": [
      "[2, 3]\n"
     ]
    }
   ],
   "source": [
    "nums = [4, 3, 2, 7, 8, 2, 3, 1]\n",
    "print(find_duplicates(nums))  # Output: [2, 3]"
   ]
  },
  {
   "cell_type": "markdown",
   "metadata": {},
   "source": [
    "#### Detaield Explanation:\n",
    "\n",
    "**Input:** `[1, 3, 4, 2, 2, 3]`\n",
    "\n",
    "**Process:**\n",
    "- `1` → add to seen\n",
    "-  `3` → add to seen\n",
    "-  `4` → add to seen\n",
    "-  `2` → add to seen\n",
    "-  `2` → already in seen, add to duplicates\n",
    "-  `3` → already in seen, add to duplicates\n",
    "\n",
    "**Final Output:** `[2, 3]`"
   ]
  },
  {
   "cell_type": "markdown",
   "metadata": {},
   "source": [
    "\n",
    "\n",
    "#### <span style=\"color:blue\">1. Write a Fibonacci series program in python using iterative method.</span>\n",
    "\n",
    "**INPUT:**\n",
    "\n",
    "5\n",
    "\n",
    "\n",
    "\n",
    "**OUTPUT:**\n",
    "\n",
    "Fibonacci Series:\n",
    "\n",
    "0 1 1 2 3"
   ]
  },
  {
   "cell_type": "markdown",
   "metadata": {},
   "source": [
    "#### <span style=\"color:green\">Solution:</span>\n",
    "\n",
    "1. **Understand the Question**\n",
    "\n",
    "   The Fibonacci series is a sequence where each number is the sum of the two preceding ones, starting from 0 and 1. For example, the series begins as follows: 0, 1, 1, 2, 3, 5, 8, 13, and so on.\n",
    "\n",
    "2. **Input & Output Analysis**\n",
    "\n",
    "   - **Input:** The number of terms `n` in the Fibonacci series to generate.\n",
    "   - **Output:** The Fibonacci series up to `n` terms.\n",
    "\n",
    "3. **Human Calculation**\n",
    "\n",
    "   To manually calculate the first few terms of the Fibonacci series:\n",
    "\n",
    "   For `n = 5`, the series is: 0, 1, 1, 2, 3\n",
    "\n",
    "4. **Pseudo Code Creation**\n",
    "\n",
    "   Here's a step-by-step pseudocode for generating the Fibonacci series using the iterative method:\n",
    "\n",
    "   - Initialize two variables to store the first two terms of the Fibonacci series.\n",
    "   - Iterate from the third term up to the desired number of terms.\n",
    "   - In each iteration, calculate the next term as the sum of the previous two terms.\n",
    "   - Update the previous terms to move forward in the series.\n",
    "   - Output the series."
   ]
  },
  {
   "cell_type": "raw",
   "metadata": {},
   "source": [
    "\n",
    "START\n",
    "1. If n is 0 or less, output an empty series\n",
    "2. If n is 1, output [0]\n",
    "3. Initialize variables a = 0 and b = 1\n",
    "4. Create an empty list to store the series\n",
    "5. Append a to the list\n",
    "6. For i from 1 to n-1:\n",
    "     a. Append b to the list\n",
    "     b. Set next_term = a + b\n",
    "     c. Update a to b\n",
    "     d. Update b to next_term\n",
    "7. Output the list\n",
    "END"
   ]
  },
  {
   "cell_type": "code",
   "execution_count": 9,
   "metadata": {},
   "outputs": [
    {
     "name": "stdout",
     "output_type": "stream",
     "text": [
      "[0, 1, 1, 2, 3]\n"
     ]
    }
   ],
   "source": [
    "def fibonacci_series(n):\n",
    "    # Handle edge cases\n",
    "    if n <= 0:\n",
    "        return []\n",
    "    elif n == 1:\n",
    "        return [0]\n",
    "\n",
    "    # Initialize the first two terms\n",
    "    a, b = 0, 1\n",
    "    series = [a]\n",
    "\n",
    "    # Generate Fibonacci series iteratively\n",
    "    for _ in range(1, n):\n",
    "        series.append(b)\n",
    "        a, b = b, a + b\n",
    "\n",
    "    return series\n",
    "\n",
    "# Example usage\n",
    "num_terms = 5\n",
    "print(fibonacci_series(num_terms))"
   ]
  },
  {
   "cell_type": "code",
   "execution_count": null,
   "metadata": {},
   "outputs": [],
   "source": []
  },
  {
   "cell_type": "markdown",
   "metadata": {},
   "source": [
    "\n",
    "#### <span style=\"color:blue\">2. Write a Python program to find an integer exponent x such that a^x = n.</span>\n",
    "\n",
    "**INPUT:**\n",
    "\n",
    "1024\n",
    "\n",
    "2\n",
    "\n",
    "\n",
    "\n",
    "**OUTPUT:**\n",
    "\n",
    "10"
   ]
  },
  {
   "cell_type": "markdown",
   "metadata": {},
   "source": [
    "#### <span style=\"color:green\">Solution:</span>\n",
    "\n",
    "To solve the problem of finding an integer exponent `x` such that \\( a^x = n \\), where \\( a = 2 \\) and \\( n = 1024 \\), you want to determine the value of `x` that satisfies \\( 2^x = 1024 \\). In this case, \\( 2^{10} = 1024 \\), so the expected output is `x = 10`.\n",
    "\n",
    "### Steps to Solve the Problem\n",
    "\n",
    "1. **Input & Output Analysis**\n",
    "   - **Input:** Two numbers: \\( n = 1024 \\) and \\( a = 2 \\).\n",
    "   - **Output:** The exponent `x` such that \\( 2^x = 1024 \\). In this case, the output should be `10`.\n",
    "\n",
    "---\n",
    "2. **Human Calculation**\n",
    "   For \\( 2^x = 1024 \\):\n",
    "   - \\( 2^1 = 2 \\)\n",
    "   - \\( 2^2 = 4 \\)\n",
    "   - \\( 2^3 = 8 \\)\n",
    "   - ...\n",
    "   - \\( 2^{10} = 1024 \\), so \\( x = 10 \\).\n",
    "\n",
    "---\n",
    "3. **Pseudo Code Creation**\n"
   ]
  },
  {
   "cell_type": "raw",
   "metadata": {},
   "source": [
    "START\n",
    "1. Set x = 0\n",
    "2. Initialize result = 1\n",
    "3. While result < n:\n",
    "     a. Multiply result by a (result *= a)\n",
    "     b. Increment x by 1\n",
    "4. If result == n, return x\n",
    "5. If result exceeds n without a match, return \"No integer solution for x\"\n",
    "END\n"
   ]
  },
  {
   "cell_type": "code",
   "execution_count": 10,
   "metadata": {},
   "outputs": [
    {
     "name": "stdout",
     "output_type": "stream",
     "text": [
      "The exponent x such that 2^x = 1024 is: 10\n"
     ]
    }
   ],
   "source": [
    "def find_exponent(n, a):\n",
    "    x = 0\n",
    "    result = 1\n",
    "    \n",
    "    # Continue multiplying by 'a' until we either reach or exceed 'n'\n",
    "    while result < n:\n",
    "        result *= a\n",
    "        x += 1\n",
    "    \n",
    "    # Check if the final result matches 'n'\n",
    "    if result == n:\n",
    "        return x\n",
    "    else:\n",
    "        return \"No integer solution for x\"\n",
    "\n",
    "# Example usage\n",
    "n = 1024  # Given number\n",
    "a = 2     # Given base\n",
    "x = find_exponent(n, a)\n",
    "\n",
    "print(f\"The exponent x such that {a}^x = {n} is: {x}\")"
   ]
  },
  {
   "cell_type": "markdown",
   "metadata": {},
   "source": [
    "\n",
    "#### <span style=\"color:blue\">3. Write a Python program to move all zero digits to end of a given list of numbers.</span>\n",
    "\n",
    "\n",
    "\n",
    "INPUT:\n",
    "\n",
    "[3, 4, 0, 0, 0, 6, 2, 0, 6, 7, 6, 0, 0, 0, 9, 10, 7, 4, 4, 5, 3, 0, 0, 2, 9, 7, 1]\n",
    "\n",
    "OUTPUT:\n",
    "\n",
    "﻿[3, 4, 6, 2, 6, 7, 6, 9, 10, 7, 4, 4, 5, 3, 2, 9, 7, 1, 0, 0, 0, 0, 0, 0, 0, 0, 0]"
   ]
  },
  {
   "cell_type": "markdown",
   "metadata": {},
   "source": [
    "#### <span style=\"color:green\">Solution:</span>\n",
    "\n",
    "### Steps:\n",
    "1. Separate the non-zero elements and zero elements.\n",
    "2. Keep all non-zero elements in their original order and move all zeros to the end of the list.\n",
    "\n",
    "### Approach:\n",
    "\n",
    "- Create a new list that contains all non-zero elements from the original list.\n",
    "- Count the number of zeros in the original list.\n",
    "- Append the zeros to the end of the non-zero list.\n",
    "\n",
    "### Pseudo Code:\n"
   ]
  },
  {
   "cell_type": "raw",
   "metadata": {},
   "source": [
    "START\n",
    "1. Initialize an empty list for non-zero elements.\n",
    "2. Count the number of zeros in the original list.\n",
    "3. Add all non-zero elements to the new list.\n",
    "4. Append the same number of zeros to the new list.\n",
    "5. Return the new list.\n",
    "END"
   ]
  },
  {
   "cell_type": "code",
   "execution_count": 11,
   "metadata": {},
   "outputs": [
    {
     "name": "stdout",
     "output_type": "stream",
     "text": [
      "[3, 4, 6, 2, 6, 7, 6, 9, 10, 7, 4, 4, 5, 3, 2, 9, 7, 1, 0, 0, 0, 0, 0, 0, 0, 0, 0]\n"
     ]
    }
   ],
   "source": [
    "def move_zeros_to_end(nums):\n",
    "    # Filter non-zero elements\n",
    "    non_zero_nums = [num for num in nums if num != 0]\n",
    "    \n",
    "    # Count the number of zeros\n",
    "    zero_count = nums.count(0)\n",
    "    \n",
    "    # Append zeros to the end of the non-zero elements\n",
    "    non_zero_nums.extend([0] * zero_count)\n",
    "    \n",
    "    return non_zero_nums\n",
    "\n",
    "# Example usage\n",
    "input_list = [3, 4, 0, 0, 0, 6, 2, 0, 6, 7, 6, 0, 0, 0, 9, 10, 7, 4, 4, 5, 3, 0, 0, 2, 9, 7, 1]\n",
    "output_list = move_zeros_to_end(input_list)\n",
    "\n",
    "print(output_list)"
   ]
  },
  {
   "cell_type": "markdown",
   "metadata": {},
   "source": [
    "##### Explanation:\n",
    "\n",
    "- List comprehension is used to filter out all non-zero elements from the original list.\n",
    "- Count the number of zeros using the `count()` function.\n",
    "- Extend the non-zero list by appending zeros at the end based on the counted number of zeros."
   ]
  },
  {
   "cell_type": "markdown",
   "metadata": {},
   "source": [
    "\n",
    "#### <span style=\"color:blue\">4. Write a Python program to create a list whose ith element is the maximum of the first i elements from a input list.</span>\n",
    "\n",
    "\n",
    "INPUT:\n",
    "\n",
    "[0, -1, 3, 8, 5, 9, 8, 14, 2, 4, 3, -10, 10, 17, 41, 22, -4, -4, -15, 0]\n",
    "\n",
    "OUTPUT:\n",
    "\n",
    "﻿[0, 0, 3, 8, 8, 9, 9, 14, 14, 14, 14, 14, 14, 17, 41, 41, 41, 41, 41, 41]"
   ]
  },
  {
   "cell_type": "markdown",
   "metadata": {},
   "source": [
    "#### <span style=\"color:green\">Solution:</span>\n",
    "\n",
    "### Steps:\n",
    "1. Iterate through the input list and keep track of the maximum value encountered so far.\n",
    "2. For each element at index i, add the maximum of the first i elements to the new list.\n",
    "\n",
    "### Approach:\n",
    "- Initialize a variable to hold the maximum value encountered so far.\n",
    "- Traverse the input list, updating the maximum value after processing each element.\n",
    "- Append the current maximum to the output list.\n",
    "\n",
    "### Pseudo Code:\n"
   ]
  },
  {
   "cell_type": "raw",
   "metadata": {},
   "source": [
    "START\n",
    "1. Initialize an empty list for the result.\n",
    "2. Set the variable max_so_far to the first element of the input list.\n",
    "3. For each element in the input list:\n",
    "   a. Compare the current element with max_so_far.\n",
    "   b. Update max_so_far if the current element is larger.\n",
    "   c. Append max_so_far to the result list.\n",
    "4. Return the result list.\n",
    "END"
   ]
  },
  {
   "cell_type": "code",
   "execution_count": 12,
   "metadata": {},
   "outputs": [
    {
     "name": "stdout",
     "output_type": "stream",
     "text": [
      "[0, 0, 3, 8, 8, 9, 9, 14, 14, 14, 14, 14, 14, 17, 41, 41, 41, 41, 41, 41]\n"
     ]
    }
   ],
   "source": [
    "def create_max_list(input_list):\n",
    "    result = []\n",
    "    max_so_far = input_list[0]\n",
    "    \n",
    "    for num in input_list:\n",
    "        # Update the maximum value encountered so far\n",
    "        if num > max_so_far:\n",
    "            max_so_far = num\n",
    "        # Append the current maximum to the result list\n",
    "        result.append(max_so_far)\n",
    "    \n",
    "    return result\n",
    "\n",
    "# Example usage\n",
    "input_list = [0, -1, 3, 8, 5, 9, 8, 14, 2, 4, 3, -10, 10, 17, 41, 22, -4, -4, -15, 0]\n",
    "output_list = create_max_list(input_list)\n",
    "\n",
    "print(output_list)"
   ]
  },
  {
   "cell_type": "markdown",
   "metadata": {},
   "source": [
    "**Detailed Explanation:**\n",
    "- **Initialization:** The variable `max_so_far` is initialized with the first element of the input list.\n",
    "\n",
    "\n",
    "- **Iteration:** For each element in the input list, check if the element is greater than the current maximum (`max_so_far`). If it is, update the maximum.\n",
    "\n",
    "\n",
    "- **Appending:** Append the current maximum value to the result list after processing each element.\n",
    "\n",
    "\n",
    "- **Output:** Return the result list that contains the maximum value of the first i elements for each i."
   ]
  },
  {
   "cell_type": "code",
   "execution_count": null,
   "metadata": {},
   "outputs": [],
   "source": [
    "# Simple methods"
   ]
  },
  {
   "cell_type": "code",
   "execution_count": 1,
   "metadata": {},
   "outputs": [
    {
     "name": "stdout",
     "output_type": "stream",
     "text": [
      "Enter the input data: [0, -1, 3, 8, 5, 9, 8, 14, 2, 4, 3, -10, 10, 17, 41, 22, -4, -4, -15, 0]\n",
      "[0, 0, 3, 8, 8, 9, 9, 14, 14, 14, 14, 14, 14, 17, 41, 41, 41, 41, 41, 41]\n"
     ]
    }
   ],
   "source": [
    "nums = eval(input(\"Enter the input data: \"))\n",
    "result = [max(nums[:i]) for i in range(1, len(nums) + 1)]\n",
    "print(result)"
   ]
  },
  {
   "cell_type": "code",
   "execution_count": 2,
   "metadata": {},
   "outputs": [
    {
     "name": "stdout",
     "output_type": "stream",
     "text": [
      "[0, 0, 3, 8, 8, 9, 9, 14, 14, 14, 14, 14, 14, 17, 41, 41, 41, 41, 41, 41]\n"
     ]
    }
   ],
   "source": [
    "# Input list\n",
    "input_list = [0, -1, 3, 8, 5, 9, 8, 14, 2, 4, 3, -10, 10, 17, 41, 22, -4, -4, -15, 0]\n",
    "\n",
    "# Initialize an empty list to store the result\n",
    "output_list = []\n",
    "\n",
    "# Variable to keep track of the maximum element\n",
    "current_max = input_list[0]\n",
    "\n",
    "# Loop through the input list\n",
    "for i in input_list:\n",
    "    # Update current_max if the current element is larger\n",
    "    current_max = max(current_max, i)\n",
    "   \n",
    "    # Append the current maximum to the output list\n",
    "    output_list.append(current_max)\n",
    "\n",
    "# Print the result\n",
    "print(output_list)"
   ]
  },
  {
   "cell_type": "markdown",
   "metadata": {},
   "source": [
    "#### <span style=\"color:blue\">5. Given an integer array nums, return the third distinct maximum number in this array. If the third maximum does not exist, return the maximum number.</span>\n",
    "\n",
    "\n",
    "Input: [3,2,1]\n",
    "\n",
    "Output: 1\n",
    "\n",
    "Explanation: The first distinct maximum is 3. The second distinct maximum is 2. The third distinct maximum is 1."
   ]
  },
  {
   "cell_type": "markdown",
   "metadata": {},
   "source": [
    "#### <span style=\"color:green\">Solution:</span>\n",
    "\n",
    "To solve this problem of finding the third distinct maximum number in the array, we need to:\n",
    "\n",
    "1. **Identify distinct numbers** from the array.\n",
    "2. **Sort the distinct numbers** in descending order.\n",
    "3. **Return the third distinct maximum** number, or if it doesn't exist, return the maximum number.\n",
    "\n",
    "### Approach:\n",
    "1. **Remove duplicates** from the array to get distinct values.\n",
    "2. **Sort the distinct values** in descending order.\n",
    "3. If there are at least three distinct numbers, return the third one; otherwise, return the maximum number.\n",
    "\n",
    "### Pseudo Code"
   ]
  },
  {
   "cell_type": "raw",
   "metadata": {},
   "source": [
    "START\n",
    "1. Remove duplicates from the array.\n",
    "2. Sort the distinct values in descending order.\n",
    "3. If the length of the distinct list is greater than or equal to 3:\n",
    "     a. Return the third distinct maximum.\n",
    "   Else:\n",
    "     a. Return the maximum number.\n",
    "END"
   ]
  },
  {
   "cell_type": "code",
   "execution_count": 13,
   "metadata": {},
   "outputs": [
    {
     "name": "stdout",
     "output_type": "stream",
     "text": [
      "1\n"
     ]
    }
   ],
   "source": [
    "def third_maximum(nums):\n",
    "    # Remove duplicates by converting the list to a set\n",
    "    distinct_nums = list(set(nums))\n",
    "    \n",
    "    # Sort the distinct numbers in descending order\n",
    "    distinct_nums.sort(reverse=True)\n",
    "    \n",
    "    # Check if there are at least 3 distinct numbers\n",
    "    if len(distinct_nums) >= 3:\n",
    "        return distinct_nums[2]  # Return the third distinct maximum\n",
    "    else:\n",
    "        return distinct_nums[0]  # Return the maximum number\n",
    "\n",
    "# Example usage\n",
    "nums = [3, 2, 1]\n",
    "print(third_maximum(nums))  # Output: 1"
   ]
  },
  {
   "cell_type": "code",
   "execution_count": 14,
   "metadata": {},
   "outputs": [
    {
     "name": "stdout",
     "output_type": "stream",
     "text": [
      "5\n"
     ]
    }
   ],
   "source": [
    "nums = [7,7,2,5,8,4,1,7]\n",
    "print(third_maximum(nums))  # Output: 5"
   ]
  },
  {
   "cell_type": "markdown",
   "metadata": {},
   "source": [
    "#### Detailed Explanation:\n",
    "\n",
    "1. **Removing Duplicates:** The input list is converted to a set to remove duplicates, as sets do not allow repeated elements.\n",
    "\n",
    "2. **Sorting:** The distinct elements are then sorted in descending order using the `sort(reverse=True)` method.\n",
    "\n",
    "3. **Return Values:**\n",
    "    - If there are at least three distinct numbers, return the third number in the sorted list.\n",
    "    - If there are fewer than three distinct numbers, return the first element, which is the maximum."
   ]
  },
  {
   "cell_type": "markdown",
   "metadata": {},
   "source": [
    "#### <span style=\"color:blue\">6. Write a Python program to identify and print the elements that occur more than once in a given array.</span>\n",
    "\n",
    "\n",
    "\n",
    "Input :[10, 20, 40, 30, 20, 10, 20]\n",
    "\n",
    "Output :\n",
    "\n",
    "10\n",
    "\n",
    "20\n",
    "\n",
    "Explanation : 40 and 30 occur 1 time in the given array, 10 occurs 2 times and 20 occurs 3 times."
   ]
  },
  {
   "cell_type": "markdown",
   "metadata": {},
   "source": [
    "#### <span style=\"color:green\">Solution:</span>\n",
    "\n",
    "### Steps:\n",
    "1. Count the frequency of each element in the array.\n",
    "2. Identify the elements that have a frequency greater than 1.\n",
    "3. Print the elements that occur more than once.\n",
    "\n",
    "### Approach:\n",
    "- Use a dictionary to store the frequency of each element.\n",
    "- Traverse the array and update the frequency of each element in the dictionary.\n",
    "- Iterate over the dictionary and print the elements that have a frequency greater than 1.\n",
    "\n",
    "### Pseudo Code:"
   ]
  },
  {
   "cell_type": "raw",
   "metadata": {},
   "source": [
    "START\n",
    "1. Initialize an empty dictionary to store element frequencies.\n",
    "2. Traverse the input array and update the frequency of each element.\n",
    "3. For each element in the dictionary:\n",
    "   a. If the frequency is greater than 1, print the element.\n",
    "END"
   ]
  },
  {
   "cell_type": "code",
   "execution_count": 15,
   "metadata": {},
   "outputs": [
    {
     "name": "stdout",
     "output_type": "stream",
     "text": [
      "10\n",
      "20\n"
     ]
    }
   ],
   "source": [
    "def find_duplicates(arr):\n",
    "    # Dictionary to store the frequency of each element\n",
    "    freq_dict = {}\n",
    "    \n",
    "    # Count the frequency of each element in the array\n",
    "    for num in arr:\n",
    "        if num in freq_dict:\n",
    "            freq_dict[num] += 1\n",
    "        else:\n",
    "            freq_dict[num] = 1\n",
    "    \n",
    "    # Print elements that occur more than once\n",
    "    for num, count in freq_dict.items():\n",
    "        if count > 1:\n",
    "            print(num)\n",
    "\n",
    "# Example usage\n",
    "input_array = [10, 20, 40, 30, 20, 10, 20]\n",
    "find_duplicates(input_array)"
   ]
  },
  {
   "cell_type": "markdown",
   "metadata": {},
   "source": [
    "### Detailed Explanation:\n",
    "\n",
    "1. **Dictionary Initialization:** We use a dictionary freq_dict where the key is the element and the value is the frequency of that element.\n",
    "\n",
    "2. **Counting Frequencies:** For each element in the array, we update the frequency count in the dictionary. If the element is already present, we increment its count; otherwise, we set its count to 1.\n",
    "\n",
    "3. **Printing Duplicates:** We iterate over the dictionary and print the elements that have a count greater than 1."
   ]
  },
  {
   "cell_type": "markdown",
   "metadata": {},
   "source": [
    "#### Assignment Question\n"
   ]
  },
  {
   "cell_type": "code",
   "execution_count": null,
   "metadata": {},
   "outputs": [],
   "source": [
    "l1 = [1, 2, 4, 5, 6] \n",
    "\n",
    "# FInd the missing values\n",
    "# Pseado code\n",
    "# Solution -> In our Slack Group"
   ]
  }
 ],
 "metadata": {
  "kernelspec": {
   "display_name": "Python 3",
   "language": "python",
   "name": "python3"
  },
  "language_info": {
   "codemirror_mode": {
    "name": "ipython",
    "version": 3
   },
   "file_extension": ".py",
   "mimetype": "text/x-python",
   "name": "python",
   "nbconvert_exporter": "python",
   "pygments_lexer": "ipython3",
   "version": "3.6.9"
  }
 },
 "nbformat": 4,
 "nbformat_minor": 4
}
