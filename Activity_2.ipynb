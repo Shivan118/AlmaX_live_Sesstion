{
 "cells": [
  {
   "cell_type": "markdown",
   "metadata": {},
   "source": [
    "## Activity 2:\n",
    "🔍🔍🔍 A student is working on a project for a restaurant. The project involves managing a nested list of menu items in the restaurant's menu. Each menu item is represented as a list containing its name, price, and category.\n",
    "\n",
    "- The student needs to perform the following operations on the nested list:\n",
    "\n",
    "- Traverse the list to print all the menu items in the collection.\n",
    "\n",
    "- Search for a menu item by its name and print its details if it exists in the collection.\n",
    "\n",
    "- Sort the menu items in the collection by price.\n",
    "\n",
    "- Delete a menu item from the collection by its name.\n",
    "\n",
    "- Insert a new menu item into the collection."
   ]
  },
  {
   "cell_type": "code",
   "execution_count": 1,
   "metadata": {},
   "outputs": [],
   "source": [
    "# Sample nested list of menu items\n",
    "menu = [\n",
    "    [\"Burger\", 10.99, \"Entree\"],\n",
    "    [\"Salad\", 7.99, \"Appetizer\"],\n",
    "    [\"Pizza\", 14.99, \"Entree\"],\n",
    "    [\"Fries\", 3.99, \"Side\"],\n",
    "    [\"Ice Cream\", 4.99, \"Dessert\"],\n",
    "]"
   ]
  },
  {
   "cell_type": "code",
   "execution_count": 2,
   "metadata": {},
   "outputs": [
    {
     "name": "stdout",
     "output_type": "stream",
     "text": [
      "Initial menu:\n",
      "Name: Burger Price: $ 10.99 Category: Entree\n",
      "Name: Salad Price: $ 7.99 Category: Appetizer\n",
      "Name: Pizza Price: $ 14.99 Category: Entree\n",
      "Name: Fries Price: $ 3.99 Category: Side\n",
      "Name: Ice Cream Price: $ 4.99 Category: Dessert\n"
     ]
    }
   ],
   "source": [
    "# Traverse the list to print all the menu items in the collection\n",
    "\n",
    "print(\"Initial menu:\")\n",
    "for item in menu:\n",
    "    print(\"Name:\", item[0], \"Price: $\", item[1], \"Category:\", item[2])"
   ]
  },
  {
   "cell_type": "markdown",
   "metadata": {},
   "source": [
    "- The for loop goes through each sub-list (item) in the menu list. item[0] is the name, item[1] is the price, and item[2] is the category."
   ]
  },
  {
   "cell_type": "code",
   "execution_count": 4,
   "metadata": {},
   "outputs": [
    {
     "name": "stdout",
     "output_type": "stream",
     "text": [
      "Enter a menu item to search: Salad\n",
      "Found: Name: Salad Price: $ 7.99 Category: Appetizer\n"
     ]
    }
   ],
   "source": [
    "# Search for a menu item by its name and print its details if it exists in the collection\n",
    "search_item = input(\"Enter a menu item to search: \")\n",
    "\n",
    "# Search for the item\n",
    "found = False\n",
    "for item in menu:\n",
    "    if item[0] == search_item:\n",
    "        print(\"Found: Name:\", item[0], \"Price: $\", item[1], \"Category:\", item[2])\n",
    "        found = True\n",
    "        break\n",
    "\n",
    "# If the item is not found, print a message\n",
    "if not found:\n",
    "    print(\"Item\", search_item, \"not found.\")"
   ]
  },
  {
   "cell_type": "code",
   "execution_count": 5,
   "metadata": {},
   "outputs": [
    {
     "name": "stdout",
     "output_type": "stream",
     "text": [
      "Menu sorted by price:\n",
      "Name: Fries Price: $ 3.99 Category: Side\n",
      "Name: Ice Cream Price: $ 4.99 Category: Dessert\n",
      "Name: Salad Price: $ 7.99 Category: Appetizer\n",
      "Name: Burger Price: $ 10.99 Category: Entree\n",
      "Name: Pizza Price: $ 14.99 Category: Entree\n"
     ]
    }
   ],
   "source": [
    "# Sort the menu items in the collection by price\n",
    "\n",
    "menu.sort(key=lambda item: item[1])\n",
    "\n",
    "# Print the sorted menu\n",
    "print(\"Menu sorted by price:\")\n",
    "for item in menu:\n",
    "    print(\"Name:\", item[0], \"Price: $\", item[1], \"Category:\", item[2])"
   ]
  },
  {
   "cell_type": "code",
   "execution_count": 6,
   "metadata": {},
   "outputs": [
    {
     "name": "stdout",
     "output_type": "stream",
     "text": [
      "Enter a menu item to delete: Salad\n",
      "Deleted item: Salad\n",
      "\n",
      "Updated menu:\n",
      "Name: Fries Price: $ 3.99 Category: Side\n",
      "Name: Ice Cream Price: $ 4.99 Category: Dessert\n",
      "Name: Burger Price: $ 10.99 Category: Entree\n",
      "Name: Pizza Price: $ 14.99 Category: Entree\n"
     ]
    }
   ],
   "source": [
    "# Prompt the user to enter a menu item name to delete\n",
    "delete_item = input(\"Enter a menu item to delete: \")\n",
    "\n",
    "# Search for the item and delete it if found\n",
    "found = False\n",
    "for item in menu:\n",
    "    if item[0] == delete_item:\n",
    "        menu.remove(item)\n",
    "        print(f\"Deleted item: {delete_item}\")\n",
    "        found = True\n",
    "        break\n",
    "\n",
    "# If the item is not found, print a message\n",
    "if not found:\n",
    "    print(f\"Item '{delete_item}' not found.\")\n",
    "\n",
    "# Print the updated menu\n",
    "print(\"\\nUpdated menu:\")\n",
    "for item in menu:\n",
    "    print(\"Name:\", item[0], \"Price: $\", item[1], \"Category:\", item[2])"
   ]
  },
  {
   "cell_type": "code",
   "execution_count": 7,
   "metadata": {},
   "outputs": [
    {
     "name": "stdout",
     "output_type": "stream",
     "text": [
      "Enter a new menu item name: Pizza\n",
      "Enter the price of the new menu item: 10\n",
      "Enter the category of the new menu item: pizzzzzzzzza\n",
      "\n",
      "Inserted item: Name: Pizza, Price: $10.00, Category: pizzzzzzzzza\n",
      "\n",
      "Updated menu:\n",
      "Name: Fries Price: $ 3.99 Category: Side\n",
      "Name: Ice Cream Price: $ 4.99 Category: Dessert\n",
      "Name: Burger Price: $ 10.99 Category: Entree\n",
      "Name: Pizza Price: $ 14.99 Category: Entree\n",
      "Name: Pizza Price: $ 10.0 Category: pizzzzzzzzza\n"
     ]
    }
   ],
   "source": [
    "# Prompt the user to enter details of the new menu item\n",
    "new_item_name = input(\"Enter a new menu item name: \")\n",
    "new_item_price = float(input(\"Enter the price of the new menu item: \"))\n",
    "new_item_category = input(\"Enter the category of the new menu item: \")\n",
    "\n",
    "# Create the new item and add it to the menu\n",
    "new_item = [new_item_name, new_item_price, new_item_category]\n",
    "menu.append(new_item)\n",
    "\n",
    "# Print confirmation and updated menu\n",
    "print(f\"\\nInserted item: Name: {new_item[0]}, Price: ${new_item[1]:.2f}, Category: {new_item[2]}\")\n",
    "\n",
    "print(\"\\nUpdated menu:\")\n",
    "for item in menu:\n",
    "    print(\"Name:\", item[0], \"Price: $\", item[1], \"Category:\", item[2])"
   ]
  },
  {
   "cell_type": "code",
   "execution_count": null,
   "metadata": {},
   "outputs": [],
   "source": []
  }
 ],
 "metadata": {
  "kernelspec": {
   "display_name": "Python 3",
   "language": "python",
   "name": "python3"
  },
  "language_info": {
   "codemirror_mode": {
    "name": "ipython",
    "version": 3
   },
   "file_extension": ".py",
   "mimetype": "text/x-python",
   "name": "python",
   "nbconvert_exporter": "python",
   "pygments_lexer": "ipython3",
   "version": "3.6.9"
  }
 },
 "nbformat": 4,
 "nbformat_minor": 4
}
