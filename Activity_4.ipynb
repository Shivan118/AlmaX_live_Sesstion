{
 "cells": [
  {
   "cell_type": "markdown",
   "metadata": {},
   "source": [
    "## Activity 4: String Manipulation Challenge 🧩🔍🔠\n",
    "Create a Python function that takes in a string as an argument and performs the following tasks:\n",
    "\n",
    "- Reverses the order of the words in the string\n",
    "\n",
    "- Capitalizes the first letter of each word\n",
    "\n",
    "- Replaces every instance of the letter 'a' with the '@' symbol\n",
    "\n",
    "- Removes all vowels (a, e, i, o, u) from the string\n",
    "\n",
    "- Use emojis to illustrate the instructions where appropriate.\n",
    "\n",
    "- Additionally, find the time and space complexity"
   ]
  },
  {
   "cell_type": "code",
   "execution_count": 1,
   "metadata": {},
   "outputs": [
    {
     "name": "stdout",
     "output_type": "stream",
     "text": [
      "Reversed words: ['challenge', 'manipulation', 'the', 'for', 'string', 'example', 'an', 'is', 'This']\n",
      "Capitalized words: ['Challenge', 'Manipulation', 'The', 'For', 'String', 'Example', 'An', 'Is', 'This']\n",
      "Replaced words: ['Ch@llenge', 'M@nipul@tion', 'The', 'For', 'String', 'Ex@mple', '@n', 'Is', 'This']\n",
      "Final words: ['Ch@llng', 'M@npl@tn', 'Th', 'Fr', 'Strng', 'x@mpl', '@n', 's', 'Ths']\n",
      "Final result: Ch@llng M@npl@tn Th Fr Strng x@mpl @n s Ths\n"
     ]
    }
   ],
   "source": [
    "# Input string\n",
    "s = \"This is an example string for the manipulation challenge\"\n",
    "\n",
    "# Step 1: Reverse the order of the words in the string\n",
    "words = s.split()\n",
    "reversed_words = words[::-1]\n",
    "print(\"Reversed words:\", reversed_words)\n",
    "\n",
    "# Step 2: Capitalize the first letter of each word\n",
    "capitalized_words = [word.capitalize() for word in reversed_words]\n",
    "print(\"Capitalized words:\", capitalized_words)\n",
    "\n",
    "# Step 3: Replace every instance of the letter 'a' with the '@' symbol\n",
    "replaced_words = [word.replace('a', '@').replace('A', '@') for word in capitalized_words]\n",
    "print(\"Replaced words:\", replaced_words)\n",
    "\n",
    "# Step 4: Remove all vowels (a, e, i, o, u) from the string\n",
    "vowels = \"aeiouAEIOU\"\n",
    "final_words = [''.join([char for char in word if char not in vowels]) for word in replaced_words]\n",
    "print(\"Final words:\", final_words)\n",
    "\n",
    "# Join the words back into a single string\n",
    "result = ' '.join(final_words)\n",
    "print(\"Final result:\", result)"
   ]
  },
  {
   "cell_type": "code",
   "execution_count": 2,
   "metadata": {},
   "outputs": [
    {
     "name": "stdout",
     "output_type": "stream",
     "text": [
      "Ch@llng M@npl@tn Th Fr Strng x@mpl @n s Ths\n"
     ]
    }
   ],
   "source": [
    "def manipulate_string(s: str) -> str:\n",
    "    # Step 1: Reverse the order of the words in the string\n",
    "    words = s.split()\n",
    "    reversed_words = words[::-1]\n",
    "    \n",
    "    # Step 2: Capitalize the first letter of each word\n",
    "    capitalized_words = [word.capitalize() for word in reversed_words]\n",
    "    \n",
    "    # Step 3: Replace every instance of the letter 'a' with the '@' symbol\n",
    "    replaced_words = [word.replace('a', '@').replace('A', '@') for word in capitalized_words]\n",
    "    \n",
    "    # Step 4: Remove all vowels (a, e, i, o, u) from the string\n",
    "    vowels = \"aeiouAEIOU\"\n",
    "    final_words = [''.join([char for char in word if char not in vowels]) for word in replaced_words]\n",
    "    \n",
    "    # Join the words back into a single string\n",
    "    result = ' '.join(final_words)\n",
    "    return result\n",
    "\n",
    "# Example usage\n",
    "input_string = \"This is an example string for the manipulation challenge\"\n",
    "output_string = manipulate_string(input_string)\n",
    "print(output_string)"
   ]
  },
  {
   "cell_type": "code",
   "execution_count": null,
   "metadata": {},
   "outputs": [],
   "source": []
  }
 ],
 "metadata": {
  "kernelspec": {
   "display_name": "Python 3",
   "language": "python",
   "name": "python3"
  },
  "language_info": {
   "codemirror_mode": {
    "name": "ipython",
    "version": 3
   },
   "file_extension": ".py",
   "mimetype": "text/x-python",
   "name": "python",
   "nbconvert_exporter": "python",
   "pygments_lexer": "ipython3",
   "version": "3.6.9"
  }
 },
 "nbformat": 4,
 "nbformat_minor": 4
}
